{
 "cells": [
  {
   "cell_type": "code",
   "execution_count": 1,
   "metadata": {},
   "outputs": [],
   "source": [
    "import numpy as np\n",
    "import requests\n",
    "import bs4\n"
   ]
  },
  {
   "cell_type": "code",
   "execution_count": 14,
   "metadata": {},
   "outputs": [],
   "source": [
    "import os\n",
    "from firecrawl import FirecrawlApp\n",
    "from dotenv import load_dotenv\n",
    "import os\n",
    "from pydantic import BaseModel, Field\n",
    "\n",
    "load_dotenv()\n",
    "\n",
    "app = FirecrawlApp(api_key=os.getenv(\"YOUR_API_KEY\"))\n",
    "\n",
    "class ExtractSchema(BaseModel):\n",
    "    company_mission: str\n",
    "    supports_sso: bool\n",
    "    is_open_source: bool\n",
    "    is_in_yc: bool\n",
    "\n",
    "response = app.scrape_url(url= 'https://uva.wd1.myworkdayjobs.com/en-US/UVAStudentJobs', params={\n",
    "\t'formats': [ 'json' ],\n",
    "    'jsonOptions': {\n",
    "        'schema': ExtractSchema.model_json_schema(),\n",
    "\t}\n",
    "})"
   ]
  },
  {
   "cell_type": "code",
   "execution_count": 17,
   "metadata": {},
   "outputs": [
    {
     "name": "stdout",
     "output_type": "stream",
     "text": [
      "{'metadata': {'ogDescription': \"In 1819, Thomas Jefferson founded the University of Virginia and inaugurated a bold experiment. Two centuries later, Jefferson’s vision thrives. Across Grounds - and throughout the world - UVA students, faculty, staff and alumni challenge convention, break barriers and pursue the greater good. The University of Virginia is made up of eleven schools and affiliated foundations in Charlottesville plus the College at Wise in Southwest Virginia. The University of Virginia Health System is a renowned academic medical center committed to providing outstanding patient care, educating tomorrow's health care leaders and discovering new and better ways to treat diseases. The University's Medical Center, School of Medicine and Physicians Group are recognized for their excellence in patient care, education and research. At UVA, we offer a rich collection benefits, which have long been recognized and valued for their comprehensiveness and competitiveness in the market. In addition to a robust array of traditional benefits such as health care, time off, and retirement, UVA offers a comprehensive list of benefits and services to help staff and faculty meet their personal and family needs.\", 'title': 'Student Opportunities', 'image': 'https://uva.wd1.myworkdayjobs.com/en-US/UVAStudentJobs/assets/logo', 'og:type': 'website', 'ogUrl': 'https://uva.wd1.myworkdayjobs.com/en-US/UVAStudentJobs', 'language': 'en-US', 'ogTitle': 'Student Opportunities', 'ogImage': 'https://uva.wd1.myworkdayjobs.com/en-US/UVAStudentJobs/assets/logo', 'viewport': 'width=device-width, initial-scale=1.0, maximum-scale=2.0', 'description': \"In 1819, Thomas Jefferson founded the University of Virginia and inaugurated a bold experiment. Two centuries later, Jefferson’s vision thrives. Across Grounds - and throughout the world - UVA students, faculty, staff and alumni challenge convention, break barriers and pursue the greater good. The University of Virginia is made up of eleven schools and affiliated foundations in Charlottesville plus the College at Wise in Southwest Virginia. The University of Virginia Health System is a renowned academic medical center committed to providing outstanding patient care, educating tomorrow's health care leaders and discovering new and better ways to treat diseases. The University's Medical Center, School of Medicine and Physicians Group are recognized for their excellence in patient care, education and research. At UVA, we offer a rich collection benefits, which have long been recognized and valued for their comprehensiveness and competitiveness in the market. In addition to a robust array of traditional benefits such as health care, time off, and retirement, UVA offers a comprehensive list of benefits and services to help staff and faculty meet their personal and family needs.\", 'og:url': 'https://uva.wd1.myworkdayjobs.com/en-US/UVAStudentJobs', 'scrapeId': 'a01871cb-40de-4b94-8f46-ae2051f3c7ca', 'sourceURL': 'https://uva.wd1.myworkdayjobs.com/en-US/UVAStudentJobs', 'url': 'https://uva.wd1.myworkdayjobs.com/en-US/UVAStudentJobs', 'statusCode': 200}, 'json': {'company_mission': 'In 1819, Thomas Jefferson founded the University of Virginia and inaugurated a bold experiment. Two centuries later, Jefferson’s vision thrives. Across Grounds - and throughout the world - UVA students, faculty, staff and alumni challenge convention, break barriers and pursue the greater good.', 'supports_sso': False, 'is_open_source': False, 'is_in_yc': False}}\n"
     ]
    }
   ],
   "source": [
    "print(response)\n"
   ]
  }
 ],
 "metadata": {
  "kernelspec": {
   "display_name": "Python 3",
   "language": "python",
   "name": "python3"
  },
  "language_info": {
   "codemirror_mode": {
    "name": "ipython",
    "version": 3
   },
   "file_extension": ".py",
   "mimetype": "text/x-python",
   "name": "python",
   "nbconvert_exporter": "python",
   "pygments_lexer": "ipython3",
   "version": "3.10.12"
  }
 },
 "nbformat": 4,
 "nbformat_minor": 2
}
