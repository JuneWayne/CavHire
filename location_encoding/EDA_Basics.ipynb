{
  "nbformat": 4,
  "nbformat_minor": 0,
  "metadata": {
    "colab": {
      "private_outputs": true,
      "provenance": []
    },
    "kernelspec": {
      "name": "python3",
      "display_name": "Python 3"
    },
    "language_info": {
      "name": "python"
    }
  },
  "cells": [
    {
      "cell_type": "code",
      "execution_count": null,
      "metadata": {
        "id": "dtSCDRULJwlw"
      },
      "outputs": [],
      "source": [
        "import pandas as pd\n",
        "import numpy as np\n",
        "import matplotlib.pyplot as plt\n",
        "import seaborn as sns"
      ]
    },
    {
      "cell_type": "code",
      "source": [
        "df2= pd.read_csv('uvajobsdata.csv')\n",
        "df2.head()"
      ],
      "metadata": {
        "id": "i2NVy8BUJ7kv"
      },
      "execution_count": null,
      "outputs": []
    },
    {
      "cell_type": "code",
      "source": [
        "df2.drop(columns='Unnamed: 0')"
      ],
      "metadata": {
        "id": "4YsTB4wjKS14"
      },
      "execution_count": null,
      "outputs": []
    },
    {
      "cell_type": "code",
      "source": [
        "df2['title'].tolist"
      ],
      "metadata": {
        "id": "0Py0-jbVStDD"
      },
      "execution_count": null,
      "outputs": []
    },
    {
      "cell_type": "code",
      "source": [
        "location_coordinates = {\n",
        "    \"Memorial Gymnasium\": (38.037983, -78.507123),\n",
        "    \"Bond House\": (38.029760, -78.504501),\n",
        "    \"Peabody Hall\": (38.033515, -78.506028),\n",
        "    \"Bryan Hall\": (38.033386, -78.505978),\n",
        "    \"Booker House\": (38.036727, -78.502056),\n",
        "    \"2400 Old Ivy Road\": (38.046865, -78.518858),\n",
        "    \"Hotel D\": (38.034722, -78.502526),\n",
        "    \"Monroe Hall\": (38.035040, -78.506495),\n",
        "    \"Darden Faculty\": (38.05244670351643, -78.51464356539029),\n",
        "    \"Faulkner House\": (38.04842674601317, -78.513369522778),\n",
        "    \"Skipwith Hall\": (38.03591730120376, -78.5167470288405),\n",
        "    \"Newcomb Hall\": (38.03605880471141, -78.50663285771955),\n",
        "    \"Shumway Hall\": (38.033114762753605, -78.5038843867863),\n",
        "    \"North Grounds Recreation Center\": (38.050915602619234, -78.51288803682313),\n",
        "    \"Morven Farm Pigeon Coop Guest House\": (37.96163967093222, -78.46699472884718),\n",
        "    \"Michie South\": (38.04893053684736, -78.50251899999984),\n",
        "    \"Edgar Shannon Library\": (38.03664250514728, -78.50538975772007),\n",
        "    \"Aquatic & Fitness Center\": (38.03296620645659, -78.51354717115362),\n",
        "    \"College at Wise\": (36.97061120945361, -82.56071894958089),\n",
        "    \"8095 Innovation Park Drive\": (38.86120603869135, -77.2240207865898),\n",
        "    \"Gibbons House\": (38.03323110829226, -78.51466834093432),\n",
        "    \"Rotunda\": (38.035653163432656, -78.50344730834999),\n",
        "    \"Biocomplexity Center\": (38.14968083445007, -78.43532047307984),\n",
        "    \"Work Study Community Location\": (None, None),\n",
        "    \"South Lawn Nau Hall\": (38.03188381242481, -78.50500554228395),\n",
        "    \"Student Health And Wellness Center\": (38.03018740378988, -78.50398158841628),\n",
        "    \"Minor Hall\": (38.03400450632561, -78.50654477310471),\n",
        "    \"Harrison Institute And Small Special Collections Library\": (38.036323207724045, -78.5058847732219),\n",
        "    \"New Cabell Hall\": (38.0327186150949, -78.50508585772748),\n",
        "    \"Drama Education Building\": (38.039680698485284, -78.50441622884941),\n",
        "    \"Chemistry Building\": (38.0335413057959, -78.5117314288472),\n",
        "    \"Halsey Hall\": (38.033058108929936, -78.50695291541695),\n",
        "    \"John Paul Jones Arena\": (38.0461893758004, -78.50686558871307),\n",
        "    \"Astronomy Building\": (38.035735954277655, -78.51521258655526),\n",
        "    \"Wilson Hall\": (38.03264121388223, -78.50404185771951),\n",
        "    \"Town Center Four\": (38.14966396013218, -78.43522391346559),\n",
        "    \"Michie North\": (38.0491745853359, -78.50229617114613),\n",
        "    \"Parking & Transit\": (38.052258313950645, -78.50389827113594),\n",
        "    \"Old Cabell Hall\": (38.03306231554701, -78.50479712680894),\n",
        "    \"Dell Building #1\": (38.034968053725656, -78.51021288654005),\n",
        "    \"School Of Data Science\": (38.040807147654185, -78.50779984423728),\n",
        "    \"Gilmer Hall\": (38.03433525339996, -78.51309732884219),\n",
        "    \"Thornton Hall\": (38.03339090839922, -78.50970351541412),\n",
        "    \"Randolph Building\": (38.0346, -78.5037),\n",
        "    \"Brooks Hall\": (38.03583035155552, -78.50212002884308),\n",
        "    \"Garrett Hall\": (38.034287254422296, -78.50561798654205),\n",
        "    \"Fayerweather Hall\": (38.0379491005475, -78.50305652884641),\n",
        "    \"Physics/Jesse Beams Laboratory\": (38.03439766329621, -78.51024255213036),\n",
        "    \"Carruthers Hall\": (38.049927679104066, -78.50145078657152),\n",
        "    \"Pinn Hall\": (38.03220211944995, -78.50074048867776),\n",
        "    \"Olsson Hall\": (38.03219785957511, -78.5107379154089),\n",
        "    \"Corner Building\": (38.03411710305797, -78.50011392884244),\n",
        "    \"Frank C. McCue III Center\": (38.04502624180039, -78.50771601539776),\n",
        "    \"Bookstore/Central Grounds Parking\": (38.03613610579155, -78.50742277315909),\n",
        "    \"Campbell Hall\": (38.03839790009241, -78.50413845768719),\n",
        "    \"Old Ivy Hall\": (38.04654664169031, -78.5178758442346),\n",
        "    \"Ridley Hall\": (38.034757904390744, -78.50947197115161),\n",
        "    \"Ray C. Hunt Drive 560\": (38.02561700893658, -78.52541512884531),\n",
        "    \"Leake Building\": (38.03610430283866, -78.51591829999896),\n",
        "    \"Slaughter Recreation Center\": (38.035147673684655, -78.5176498965977)\n",
        "}\n",
        "\n",
        "job_titles= {\n",
        "    ['Facility Operations Assistant – Outdoor Support (Student Wage)',\n",
        " 'Karsh Institute of Democracy Research Assistant - Hybrid Position (Student Wage)',\n",
        " 'Office Assistant (Student Wage) Federal Work Study',\n",
        " 'Student Instructor Assistant (SIA), ARCH/GSVS 2150 GLOBAL SUSTAINABILITY (Student Wage)',\n",
        " 'Student Data Science Analyst (Federal Work Study, Student Wage)',\n",
        " 'Community Resilience Research Assistant (Student Wage)',\n",
        " 'IEN Student Research Assistant (SRA) - Chesapeake Bay Stakeholder Engagement (Student Wage)',\n",
        " 'Undergraduate Student Teaching Consultants (Student Wage)',\n",
        " 'Office Assistant (Student Wage)',\n",
        " 'Darden Graduate Statistical Research Assistant [Remote] (Student Wage)',\n",
        " 'DCTI Assistant (Student Wage)',\n",
        " 'Sustainability Student Employee (Student Wage)',\n",
        " 'Student Engagement CIO Support Intern - Federal Work-Study Position (Student Wage)',\n",
        " 'Darden Technical Research Assistant (Remote), Summer 2025 (Student Wage)',\n",
        " 'Darden General Research Assistant, Summer 2025 (Remote) (Student Wage)',\n",
        " 'Help Desk Student Worker (Student Wage)',\n",
        " 'Facility Operations Assistant, North Grounds, Summer 2025 (Student Wage)',\n",
        " 'MKG Farm Crew Intern (Student Wage)',\n",
        " 'DocuSign Forms and Process Administrator Student Worker - Remote (Student Wage)',\n",
        " 'Operations Assistant, Summer 2025 (Student Wage)',\n",
        " 'Arts and Humanities Graduate Library Assistant (Student Wage)',\n",
        " 'AFC Facility Assistant (SUMMER 2025) (Student Wage)',\n",
        " 'College Services Generalist',\n",
        " 'UVA|Northern Virginia Inspire Instructor (Staff Wage and Student Wage)',\n",
        " 'Web Assistant (Student Wage)',\n",
        " 'Head Resident Community Advisor and Program Assistant (Graduate Student Wage)',\n",
        " 'Resident Community Advisor (RCA) (Student Wage)',\n",
        " 'Student Affairs Research Assistant – Storytelling (Student Wage)',\n",
        " 'Student Affairs Research Assistant— Data Analysis (Student Wage)',\n",
        " 'Biocomplexity Computing for Global Challenges Undergraduate Summer Intern (Student Wage)',\n",
        " 'Meals on Wheels Office Assistant (Federal Work Study Undergraduate Student Wage)',\n",
        " 'EAP Program Instructional Assistant (IA) Summer 2025 (Student Wage)',\n",
        " 'Graduate Assistant- Gordie Center Hazing Prevention Program Facilitator (Student Wage)',\n",
        " 'Marketing and Outreach Intern (Student Wage)',\n",
        " 'Undergraduate Admission Intern - Federal Work Study Position (Student Wage)',\n",
        " 'Student Archives Assistant (Born Digital Backlog Project) (Student Wage)',\n",
        " 'Course Assistant/Grader for “Ecological Economics: Economics as if People and the Laws of Thermodynamics Mattered” (GSGS 3330), Spring 2025 - Federal Work-Study (Student Wage)',\n",
        " 'Audio-Visual Assistant (Student Wage)',\n",
        " 'Student Stage Hands/Board Ops, Spring 2025 Semester (Student Wage)',\n",
        " 'CHEM - Harman FWS Undergraduate Student (Student Wage) Federal Work Study',\n",
        " 'Student Scene Shop Assistant (Student Wage)',\n",
        " 'CHEM - Morkowchuk FWS Undergraduate Student (Student Wage) Federal Work Study',\n",
        " 'CHEM - Welch FWS Undergraduate Student (Student Wage) Federal Work Study',\n",
        " 'Event Planning Student Assistant - Work Study Position (Student Wage)',\n",
        " 'STAT - Lab Assistant - FWS Student (Student Wage)',\n",
        " 'CHEM - Chruma FWS Undergraduate Student (Student Wage) Federal Work Study',\n",
        " 'SHWC Event Assistant (Student Wage)',\n",
        " 'CHEM - Frantz FWS Undergraduate Student (Student Wage) Federal Work Study',\n",
        " 'Assistant Student Staff-Art Room (Student Wage)',\n",
        " 'Newcomb Hall Ambassador - Federal Work-Study Position (Student Wage)',\n",
        " 'Graduate Office Assistant (Student Wage)',\n",
        " 'Content Tutor (Staff Wage &amp; Student Wage)',\n",
        " 'Office and Public Outreach Administrative Assistant (Student Wage)',\n",
        " 'Learning Design Intern (Graduate Student Wage - FWS Possible)',\n",
        " 'Communications Intern (Student Wage)',\n",
        " 'UVA Northern Virginia Inspire Teaching Assistant (Student Wage)',\n",
        " 'Research Computing Student Worker (Student Wage)',\n",
        " 'Tennis Instructor (Student Wage)',\n",
        " 'Flexible Work Schedule - Transit Bus Driver (Student Wage)',\n",
        " \"Promotion's Assistant (Student Wage)\",\n",
        " 'Conference Supervisor (Student Wage)',\n",
        " 'Intramural Sports (Intramural Sports Official or Intramural Sport Supervisor) (Student Wage)',\n",
        " 'Student Research Assistant (Job Market Analysis) (Student Wage)',\n",
        " 'Graduate Student Intern, Office of Diversity Programs (Student Wage)',\n",
        " 'Conservation Assistant (Federal Work Study Graduate Student Wage)',\n",
        " 'SQL Tutor/Instructor (Part-Time, In-Person) (Student Wage)',\n",
        " 'BIOL - Deppmann Lab Web Developer Federal Work Study (Student Wage)',\n",
        " 'Student Intern, Center for Transportation Studies (Student Wage)',\n",
        " 'Federal Work Study Research Assistant (Student Wage)',\n",
        " 'Research Assistant (Undergraduate Student Wage)',\n",
        " 'DOPS Graduate Research Assistant OBE 1– Federal Work Study – Remote Optional/Possible',\n",
        " 'Anthropology Department Work Study - Fall 2024 and Spring 2025 (Student Wage)',\n",
        " 'Research Assistant for Public Policy and Economics (Student Wage) Federal Work Study',\n",
        " 'Research Assistant (Graduate Student Wage)',\n",
        " 'Printshop Assistant, Art Department (Student Wage)',\n",
        " 'Research Assistant (Graduate Student Wage)',\n",
        " 'PHYS - FWS Undergraduate Student UTA (Student Wage)',\n",
        " 'Swim Instructor (Student Wage)',\n",
        " 'Knowledge Content Creator (Federal Work Study Undergraduate Wage)',\n",
        " 'Visitor Services Assistant Federal Work Study (Undergraduate Student Wage)',\n",
        " 'Graduate Advising Fellow for Human Services - Federal Work Study (Graduate Student Wage)',\n",
        " 'Cancer Center CORES Undergraduate Federal Work Study (Student Wage)',\n",
        " 'Class Checker (Student Wage)',\n",
        " 'Administrative/Research Assistant, Systems and Information Engineering (Student Wage)',\n",
        " 'Course Assistant/Grader for GSGS 2000: Intro to Global Studies (Fall 2024) (Student Wage)',\n",
        " 'Casscells Fellow (Graduate Student)',\n",
        " 'YWLP Mentoring Coordinator (Student Wage)',\n",
        " 'BIOL - Parichy Lab (Student Wage) Federal Work Study',\n",
        " 'Graduate Accommodations Assistant (Student Wage)',\n",
        " 'Document Processor (Undergraduate Student Wage) Federal Work Study',\n",
        " 'Football Water Crew (Student Wage)',\n",
        " 'Operations and Project Assistant - Federal Work-Study Position (Undergraduate Student Wage)',\n",
        " 'Graduate Advising Fellow for Animals and Environmental Services - Federal Work Study Position (Graduate Student Wage)',\n",
        " 'Madison House Front Desk Receptionist - Federal Work-Study Position (Undergraduate Student Wage)',\n",
        " 'Operation Assistant - Federal Work-Study Position (Student Wage)',\n",
        " 'UVA Bookstore Student Worker (Student Wage)',\n",
        " 'FWS Student - BIOL - Greenhouse Assistant (Student Wage) - Federal Work Study Position',\n",
        " 'Fine Arts Library Assistant - Federal Work Study Position (Student Wage)',\n",
        " 'Communications Intern/Student-Editor of Connections (Student Wage)',\n",
        " 'UTS OnDemand Driver (Student Wage)',\n",
        " 'Summer Graduate Student Program Assistant (Student Wage)',\n",
        " 'Cavalier Connect Student Fundraiser (Student Wage)',\n",
        " 'Student Part-time Lab Manager (Student Wage)',\n",
        " 'Pickleball Instructor (Student Wage)',\n",
        " 'Academic Tutor - Content Specialist (Staff Wage and Grad Student Wage)',\n",
        " 'Lifeguard (Student Wage)',\n",
        " 'FWS-BIOL-Parichy Lab Student Research Assistant',\n",
        " 'Nursing Research Student PRN (Student Wage)',\n",
        " 'Emmett F. and N. Alys Low Endowed Chair Professorship in Physics',\n",
        " 'Assistant Coach-WAGE',\n",
        " 'Student Assistant, Geospatial Engineering Services (Student Wage)',\n",
        " 'Telephone Interviewer (Student Wage)',\n",
        " 'Fitness &amp; Instruction Personal Trainer or Group Fitness Instructor (Student Wage)',\n",
        " 'Outdoor Adventure (Equipment Coordinator, Climbing Center Coordinator, Poplar Ridge Challenge Course Coordinator, Trip Leader)']\n",
        "}\n",
        "\n",
        "df1 = pd.DataFrame(list(location_coordinates.items()), columns=[\"Location\", \"Coordinates\"])\n",
        "# Use a list of column names to select multiple columns within the dataframe\n",
        "df1 = pd.DataFrame(list(location_coordinates.items()), columns=[\"Location\", \"Coordinates\"])\n",
        "\n",
        "# Split the tuple into separate latitude and longitude columns\n",
        "df1['Latitude'] = df1['Coordinates'].apply(lambda x: x[0] if x[0] is not None else None)\n",
        "df1['Longitude'] = df1['Coordinates'].apply(lambda x: x[1] if x[1] is not None else None)\n",
        "\n",
        "# Drop the original 'Coordinates' column if not needed\n",
        "\n",
        "# Display the new dataframe\n",
        "print(df1)"
      ],
      "metadata": {
        "id": "CU9EQmVqMx-s"
      },
      "execution_count": null,
      "outputs": []
    },
    {
      "cell_type": "code",
      "source": [
        "import pandas as pd\n",
        "\n",
        "# Define the location coordinates dictionary\n",
        "location_coordinates = {\n",
        "    \"Memorial Gymnasium\": (38.037983, -78.507123),\n",
        "    \"Bond House\": (38.029760, -78.504501),\n",
        "    \"Peabody Hall\": (38.033515, -78.506028),\n",
        "    \"Bryan Hall\": (38.033386, -78.505978),\n",
        "    \"Booker House\": (38.036727, -78.502056),\n",
        "    \"2400 Old Ivy Road\": (38.046865, -78.518858),\n",
        "    \"Hotel D\": (38.034722, -78.502526),\n",
        "    \"Monroe Hall\": (38.035040, -78.506495),\n",
        "    \"Darden Faculty\": (38.05244670351643, -78.51464356539029),\n",
        "    \"Faulkner House\": (38.04842674601317, -78.513369522778),\n",
        "    \"Skipwith Hall\": (38.03591730120376, -78.5167470288405),\n",
        "    \"Newcomb Hall\": (38.03605880471141, -78.50663285771955),\n",
        "    \"Shumway Hall\": (38.033114762753605, -78.5038843867863),\n",
        "    \"North Grounds Recreation Center\": (38.050915602619234, -78.51288803682313),\n",
        "    \"Morven Farm Pigeon Coop Guest House\": (37.96163967093222, -78.46699472884718),\n",
        "    \"Michie South\": (38.04893053684736, -78.50251899999984),\n",
        "    \"Edgar Shannon Library\": (38.03664250514728, -78.50538975772007),\n",
        "    \"Aquatic & Fitness Center\": (38.03296620645659, -78.51354717115362),\n",
        "    \"College at Wise\": (36.97061120945361, -82.56071894958089),\n",
        "    \"8095 Innovation Park Drive\": (38.86120603869135, -77.2240207865898),\n",
        "    \"Gibbons House\": (38.03323110829226, -78.51466834093432),\n",
        "    \"Rotunda\": (38.035653163432656, -78.50344730834999),\n",
        "    \"Biocomplexity Center\": (38.14968083445007, -78.43532047307984),\n",
        "    \"Work Study Community Location\": (None, None),\n",
        "    \"South Lawn Nau Hall\": (38.03188381242481, -78.50500554228395),\n",
        "    \"Student Health And Wellness Center\": (38.03018740378988, -78.50398158841628),\n",
        "    \"Minor Hall\": (38.03400450632561, -78.50654477310471),\n",
        "    \"Harrison Institute And Small Special Collections Library\": (38.036323207724045, -78.5058847732219),\n",
        "    \"New Cabell Hall\": (38.0327186150949, -78.50508585772748),\n",
        "    \"Drama Education Building\": (38.039680698485284, -78.50441622884941),\n",
        "    \"Chemistry Building\": (38.0335413057959, -78.5117314288472),\n",
        "    \"Halsey Hall\": (38.033058108929936, -78.50695291541695),\n",
        "    \"John Paul Jones Arena\": (38.0461893758004, -78.50686558871307),\n",
        "    \"Astronomy Building\": (38.035735954277655, -78.51521258655526),\n",
        "    \"Wilson Hall\": (38.03264121388223, -78.50404185771951),\n",
        "    \"Town Center Four\": (38.14966396013218, -78.43522391346559),\n",
        "    \"Michie North\": (38.0491745853359, -78.50229617114613),\n",
        "    \"Parking & Transit\": (38.052258313950645, -78.50389827113594),\n",
        "    \"Old Cabell Hall\": (38.03306231554701, -78.50479712680894),\n",
        "    \"Dell Building #1\": (38.034968053725656, -78.51021288654005),\n",
        "    \"School Of Data Science\": (38.040807147654185, -78.50779984423728),\n",
        "    \"Gilmer Hall\": (38.03433525339996, -78.51309732884219),\n",
        "    \"Thornton Hall\": (38.03339090839922, -78.50970351541412),\n",
        "    \"Randolph Building\": (38.0346, -78.5037),\n",
        "    \"Brooks Hall\": (38.03583035155552, -78.50212002884308),\n",
        "    \"Garrett Hall\": (38.034287254422296, -78.50561798654205),\n",
        "    \"Fayerweather Hall\": (38.0379491005475, -78.50305652884641),\n",
        "    \"Physics/Jesse Beams Laboratory\": (38.03439766329621, -78.51024255213036),\n",
        "    \"Carruthers Hall\": (38.049927679104066, -78.50145078657152),\n",
        "    \"Pinn Hall\": (38.03220211944995, -78.50074048867776),\n",
        "    \"Olsson Hall\": (38.03219785957511, -78.5107379154089),\n",
        "    \"Corner Building\": (38.03411710305797, -78.50011392884244),\n",
        "    \"Frank C. McCue III Center\": (38.04502624180039, -78.50771601539776),\n",
        "    \"Bookstore/Central Grounds Parking\": (38.03613610579155, -78.50742277315909),\n",
        "    \"Campbell Hall\": (38.03839790009241, -78.50413845768719),\n",
        "    \"Old Ivy Hall\": (38.04654664169031, -78.5178758442346),\n",
        "    \"Ridley Hall\": (38.034757904390744, -78.50947197115161),\n",
        "    \"Ray C. Hunt Drive 560\": (38.02561700893658, -78.52541512884531),\n",
        "    \"Leake Building\": (38.03610430283866, -78.51591829999896),\n",
        "    \"Slaughter Recreation Center\": (38.035147673684655, -78.5176498965977)\n",
        "}\n",
        "\n",
        "# Create dataframe from dictionary\n",
        "df1 = pd.DataFrame(list(location_coordinates.items()), columns=[\"Location\", \"Coordinates\"])\n",
        "\n",
        "# Split the coordinates into separate Latitude and Longitude columns\n",
        "df1['Latitude'] = df1['Coordinates'].apply(lambda x: x[0] if x[0] is not None else None)\n",
        "df1['Longitude'] = df1['Coordinates'].apply(lambda x: x[1] if x[1] is not None else None)\n",
        "\n",
        "# Drop the Coordinates column\n",
        "df1 = df1.drop(columns=['Coordinates'])\n",
        "\n",
        "# Save the dataframe to a CSV file\n",
        "file_path = 'location_coordinates.csv'\n",
        "df1.to_csv(file_path, index=False)\n",
        "\n",
        "file_path\n"
      ],
      "metadata": {
        "id": "c1TqFwgEPMRH"
      },
      "execution_count": null,
      "outputs": []
    },
    {
      "cell_type": "code",
      "source": [
        "job_titles=['Facility Operations Assistant – Outdoor Support (Student Wage)',\n",
        " 'Karsh Institute of Democracy Research Assistant - Hybrid Position (Student Wage)',\n",
        " 'Office Assistant (Student Wage) Federal Work Study',\n",
        " 'Student Instructor Assistant (SIA), ARCH/GSVS 2150 GLOBAL SUSTAINABILITY (Student Wage)',\n",
        " 'Student Data Science Analyst (Federal Work Study, Student Wage)',\n",
        " 'Community Resilience Research Assistant (Student Wage)',\n",
        " 'IEN Student Research Assistant (SRA) - Chesapeake Bay Stakeholder Engagement (Student Wage)',\n",
        " 'Undergraduate Student Teaching Consultants (Student Wage)',\n",
        " 'Office Assistant (Student Wage)',\n",
        " 'Darden Graduate Statistical Research Assistant [Remote] (Student Wage)',\n",
        " 'DCTI Assistant (Student Wage)',\n",
        " 'Sustainability Student Employee (Student Wage)',\n",
        " 'Student Engagement CIO Support Intern - Federal Work-Study Position (Student Wage)',\n",
        " 'Darden Technical Research Assistant (Remote), Summer 2025 (Student Wage)',\n",
        " 'Darden General Research Assistant, Summer 2025 (Remote) (Student Wage)',\n",
        " 'Help Desk Student Worker (Student Wage)',\n",
        " 'Facility Operations Assistant, North Grounds, Summer 2025 (Student Wage)',\n",
        " 'MKG Farm Crew Intern (Student Wage)',\n",
        " 'DocuSign Forms and Process Administrator Student Worker - Remote (Student Wage)',\n",
        " 'Operations Assistant, Summer 2025 (Student Wage)',\n",
        " 'Arts and Humanities Graduate Library Assistant (Student Wage)',\n",
        " 'AFC Facility Assistant (SUMMER 2025) (Student Wage)',\n",
        " 'College Services Generalist',\n",
        " 'UVA|Northern Virginia Inspire Instructor (Staff Wage and Student Wage)',\n",
        " 'Web Assistant (Student Wage)',\n",
        " 'Head Resident Community Advisor and Program Assistant (Graduate Student Wage)',\n",
        " 'Resident Community Advisor (RCA) (Student Wage)',\n",
        " 'Student Affairs Research Assistant – Storytelling (Student Wage)',\n",
        " 'Student Affairs Research Assistant— Data Analysis (Student Wage)',\n",
        " 'Biocomplexity Computing for Global Challenges Undergraduate Summer Intern (Student Wage)',\n",
        " 'Meals on Wheels Office Assistant (Federal Work Study Undergraduate Student Wage)',\n",
        " 'EAP Program Instructional Assistant (IA) Summer 2025 (Student Wage)',\n",
        " 'Graduate Assistant- Gordie Center Hazing Prevention Program Facilitator (Student Wage)',\n",
        " 'Marketing and Outreach Intern (Student Wage)',\n",
        " 'Undergraduate Admission Intern - Federal Work Study Position (Student Wage)',\n",
        " 'Student Archives Assistant (Born Digital Backlog Project) (Student Wage)',\n",
        " 'Course Assistant/Grader for “Ecological Economics: Economics as if People and the Laws of Thermodynamics Mattered” (GSGS 3330), Spring 2025 - Federal Work-Study (Student Wage)',\n",
        " 'Audio-Visual Assistant (Student Wage)',\n",
        " 'Student Stage Hands/Board Ops, Spring 2025 Semester (Student Wage)',\n",
        " 'CHEM - Harman FWS Undergraduate Student (Student Wage) Federal Work Study',\n",
        " 'Student Scene Shop Assistant (Student Wage)',\n",
        " 'CHEM - Morkowchuk FWS Undergraduate Student (Student Wage) Federal Work Study',\n",
        " 'CHEM - Welch FWS Undergraduate Student (Student Wage) Federal Work Study',\n",
        " 'Event Planning Student Assistant - Work Study Position (Student Wage)',\n",
        " 'STAT - Lab Assistant - FWS Student (Student Wage)',\n",
        " 'CHEM - Chruma FWS Undergraduate Student (Student Wage) Federal Work Study',\n",
        " 'SHWC Event Assistant (Student Wage)',\n",
        " 'CHEM - Frantz FWS Undergraduate Student (Student Wage) Federal Work Study',\n",
        " 'Assistant Student Staff-Art Room (Student Wage)',\n",
        " 'Newcomb Hall Ambassador - Federal Work-Study Position (Student Wage)',\n",
        " 'Graduate Office Assistant (Student Wage)',\n",
        " 'Content Tutor (Staff Wage &amp; Student Wage)',\n",
        " 'Office and Public Outreach Administrative Assistant (Student Wage)',\n",
        " 'Learning Design Intern (Graduate Student Wage - FWS Possible)',\n",
        " 'Communications Intern (Student Wage)',\n",
        " 'UVA Northern Virginia Inspire Teaching Assistant (Student Wage)',\n",
        " 'Research Computing Student Worker (Student Wage)',\n",
        " 'Tennis Instructor (Student Wage)',\n",
        " 'Flexible Work Schedule - Transit Bus Driver (Student Wage)',\n",
        " \"Promotion's Assistant (Student Wage)\",\n",
        " 'Conference Supervisor (Student Wage)',\n",
        " 'Intramural Sports (Intramural Sports Official or Intramural Sport Supervisor) (Student Wage)',\n",
        " 'Student Research Assistant (Job Market Analysis) (Student Wage)',\n",
        " 'Graduate Student Intern, Office of Diversity Programs (Student Wage)',\n",
        " 'Conservation Assistant (Federal Work Study Graduate Student Wage)',\n",
        " 'SQL Tutor/Instructor (Part-Time, In-Person) (Student Wage)',\n",
        " 'BIOL - Deppmann Lab Web Developer Federal Work Study (Student Wage)',\n",
        " 'Student Intern, Center for Transportation Studies (Student Wage)',\n",
        " 'Federal Work Study Research Assistant (Student Wage)',\n",
        " 'Research Assistant (Undergraduate Student Wage)',\n",
        " 'DOPS Graduate Research Assistant OBE 1– Federal Work Study – Remote Optional/Possible',\n",
        " 'Anthropology Department Work Study - Fall 2024 and Spring 2025 (Student Wage)',\n",
        " 'Research Assistant for Public Policy and Economics (Student Wage) Federal Work Study',\n",
        " 'Research Assistant (Graduate Student Wage)',\n",
        " 'Printshop Assistant, Art Department (Student Wage)',\n",
        " 'Research Assistant (Graduate Student Wage)',\n",
        " 'PHYS - FWS Undergraduate Student UTA (Student Wage)',\n",
        " 'Swim Instructor (Student Wage)',\n",
        " 'Knowledge Content Creator (Federal Work Study Undergraduate Wage)',\n",
        " 'Visitor Services Assistant Federal Work Study (Undergraduate Student Wage)',\n",
        " 'Graduate Advising Fellow for Human Services - Federal Work Study (Graduate Student Wage)',\n",
        " 'Cancer Center CORES Undergraduate Federal Work Study (Student Wage)',\n",
        " 'Class Checker (Student Wage)',\n",
        " 'Administrative/Research Assistant, Systems and Information Engineering (Student Wage)',\n",
        " 'Course Assistant/Grader for GSGS 2000: Intro to Global Studies (Fall 2024) (Student Wage)',\n",
        " 'Casscells Fellow (Graduate Student)',\n",
        " 'YWLP Mentoring Coordinator (Student Wage)',\n",
        " 'BIOL - Parichy Lab (Student Wage) Federal Work Study',\n",
        " 'Graduate Accommodations Assistant (Student Wage)',\n",
        " 'Document Processor (Undergraduate Student Wage) Federal Work Study',\n",
        " 'Football Water Crew (Student Wage)',\n",
        " 'Operations and Project Assistant - Federal Work-Study Position (Undergraduate Student Wage)',\n",
        " 'Graduate Advising Fellow for Animals and Environmental Services - Federal Work Study Position (Graduate Student Wage)',\n",
        " 'Madison House Front Desk Receptionist - Federal Work-Study Position (Undergraduate Student Wage)',\n",
        " 'Operation Assistant - Federal Work-Study Position (Student Wage)',\n",
        " 'UVA Bookstore Student Worker (Student Wage)',\n",
        " 'FWS Student - BIOL - Greenhouse Assistant (Student Wage) - Federal Work Study Position',\n",
        " 'Fine Arts Library Assistant - Federal Work Study Position (Student Wage)',\n",
        " 'Communications Intern/Student-Editor of Connections (Student Wage)',\n",
        " 'UTS OnDemand Driver (Student Wage)',\n",
        " 'Summer Graduate Student Program Assistant (Student Wage)',\n",
        " 'Cavalier Connect Student Fundraiser (Student Wage)',\n",
        " 'Student Part-time Lab Manager (Student Wage)',\n",
        " 'Pickleball Instructor (Student Wage)',\n",
        " 'Academic Tutor - Content Specialist (Staff Wage and Grad Student Wage)',\n",
        " 'Lifeguard (Student Wage)',\n",
        " 'FWS-BIOL-Parichy Lab Student Research Assistant',\n",
        " 'Nursing Research Student PRN (Student Wage)',\n",
        " 'Emmett F. and N. Alys Low Endowed Chair Professorship in Physics',\n",
        " 'Assistant Coach-WAGE',\n",
        " 'Student Assistant, Geospatial Engineering Services (Student Wage)',\n",
        " 'Telephone Interviewer (Student Wage)',\n",
        " 'Fitness &amp; Instruction Personal Trainer or Group Fitness Instructor (Student Wage)',\n",
        " 'Outdoor Adventure (Equipment Coordinator, Climbing Center Coordinator, Poplar Ridge Challenge Course Coordinator, Trip Leader)']"
      ],
      "metadata": {
        "id": "L4rNCYKIXMoZ"
      },
      "execution_count": null,
      "outputs": []
    },
    {
      "cell_type": "code",
      "source": [
        "df1.head()"
      ],
      "metadata": {
        "id": "oSiFwXDmW4Oz"
      },
      "execution_count": null,
      "outputs": []
    },
    {
      "cell_type": "code",
      "source": [
        "# Instead of directly assigning the list:\n",
        "# df1['Job Title'] = job_titles\n",
        "\n",
        "# Create a new DataFrame from job_titles and then merge or join:\n",
        "job_titles_df = pd.DataFrame(job_titles, columns=['Job Title'])\n",
        "\n",
        "# Assuming you want to add all job titles sequentially, you might need to repeat the location data:\n",
        "df1_repeated = pd.concat([df1] * (len(job_titles_df) // len(df1) + 1), ignore_index=True)[:len(job_titles_df)]\n",
        "\n",
        "# Finally, add the job titles:\n",
        "df1_repeated['Job Title'] = job_titles_df['Job Title']\n",
        "\n",
        "df1_repeated.head()\n",
        "\n",
        "# Save the dataframe to a CSV file\n",
        "file_path2 = 'location_coordinates2.csv'\n",
        "df1_repeated.to_csv(file_path2, index=False)\n",
        "\n",
        "file_path2\n"
      ],
      "metadata": {
        "id": "JbBgIq6xX1Xu"
      },
      "execution_count": null,
      "outputs": []
    },
    {
      "cell_type": "code",
      "source": [
        "df1['addressLocality'].value_counts()"
      ],
      "metadata": {
        "id": "z0RIx8nPK1aH"
      },
      "execution_count": null,
      "outputs": []
    },
    {
      "cell_type": "code",
      "source": [
        "df1.shape"
      ],
      "metadata": {
        "id": "eAC6QeUsKVK2"
      },
      "execution_count": null,
      "outputs": []
    },
    {
      "cell_type": "markdown",
      "source": [
        "Performing EDA (Inspecting data)"
      ],
      "metadata": {
        "id": "HBwWy1eLKJdn"
      }
    },
    {
      "cell_type": "code",
      "source": [
        "df1.info()"
      ],
      "metadata": {
        "id": "35BKb6ZZKIuv"
      },
      "execution_count": null,
      "outputs": []
    },
    {
      "cell_type": "code",
      "source": [
        "df1.describe()"
      ],
      "metadata": {
        "id": "fZUgTFikKQeI"
      },
      "execution_count": null,
      "outputs": []
    },
    {
      "cell_type": "code",
      "source": [
        "# Make the dates pd.datetime\n",
        "df1['datePosted'] = pd.to_datetime(df1['datePosted'])"
      ],
      "metadata": {
        "id": "eJfiBOmOX0GN"
      },
      "execution_count": null,
      "outputs": []
    },
    {
      "cell_type": "code",
      "source": [
        "df1.info()"
      ],
      "metadata": {
        "id": "ho4fCJ1_YH89"
      },
      "execution_count": null,
      "outputs": []
    },
    {
      "cell_type": "code",
      "source": [
        "# To display all values of the 'addressLocality' column:\n",
        "pd.set_option('display.max_columns', None)\n",
        "print(df1['addressLocality'].tolist())\n"
      ],
      "metadata": {
        "id": "hBBDYgAGYLzC"
      },
      "execution_count": null,
      "outputs": []
    },
    {
      "cell_type": "code",
      "source": [
        "print(df1['title'].tolist())"
      ],
      "metadata": {
        "id": "qWsFcw2ef-FK"
      },
      "execution_count": null,
      "outputs": []
    },
    {
      "cell_type": "code",
      "source": [
        "#pip install keplergl"
      ],
      "metadata": {
        "collapsed": true,
        "id": "42oNaYqsz4lf"
      },
      "execution_count": null,
      "outputs": []
    }
  ]
}